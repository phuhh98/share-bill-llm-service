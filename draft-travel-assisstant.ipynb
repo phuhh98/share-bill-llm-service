{
 "cells": [
  {
   "cell_type": "code",
   "execution_count": 2,
   "id": "a85411ef-a771-4b34-8c9f-d2a0f690cc3e",
   "metadata": {},
   "outputs": [
    {
     "data": {
      "text/plain": [
       "\"Whether or not you should go to Korea depends entirely on your personal preferences and what you're looking for in a travel destination.  However, I can give you some information about Korea to help you decide:\\n\\n**Geography:**  Korea is located on the Korean Peninsula in East Asia. It's bordered by China to the northwest and Russia to the northeast.  South Korea is surrounded by the Yellow Sea to the west, the East China Sea to the south, and the Sea of Japan (also known as the East Sea) to the east. The country features diverse landscapes, including mountains, plains, coastlines, and islands. Jeju Island, a volcanic island off the southern coast, is a popular tourist destination.\\n\\n**History:** Korea has a long and rich history, dating back thousands of years.  It has experienced periods of both unity and division.  Key historical periods include the Three Kingdoms era, the Goryeo dynasty (known for celadon pottery), and the Joseon dynasty (known for its Confucian influence).  The Korean War (1950-1953) resulted in the division of the peninsula into North and South Korea. South Korea has since undergone rapid economic development and become a global power in technology and popular culture.\\n\\n**Culture:** Korean culture is vibrant and dynamic.  Traditional arts like calligraphy, painting, and music are still practiced and appreciated.  Modern Korean pop culture, including K-pop music, K-dramas, and Korean cinema, has gained immense global popularity.  Respect for elders and Confucian values are important aspects of Korean society.\\n\\n**Special Cuisines:** Korean cuisine is known for its bold flavors and the use of fermented ingredients.  Popular dishes include:\\n\\n* **Kimchi:**  A staple side dish made from fermented vegetables, typically cabbage.\\n* **Bibimbap:** A mixed rice dish with vegetables, meat (optional), and a fried egg, often served in a hot stone bowl.\\n* **Bulgogi:** Thinly sliced marinated beef, usually grilled.\\n* **Korean BBQ:**  A popular dining experience where diners grill meat at their table.\\n* **Tteokbokki:**  Chewy rice cakes in a spicy sauce.\\n* **Japchae:**  Glass noodles stir-fried with vegetables and meat.\\n\\n\\nThis information should give you a starting point for deciding if Korea is the right destination for you.  Consider what kind of experiences you enjoy – nature, history, bustling city life, food – and see if Korea aligns with your interests.  Further research into specific regions and attractions will help you make a more informed decision.\""
      ]
     },
     "execution_count": 2,
     "metadata": {},
     "output_type": "execute_result"
    }
   ],
   "source": [
    "import os\n",
    "\n",
    "from langchain_core.output_parsers import StrOutputParser\n",
    "from langchain_core.prompts import (\n",
    "    ChatPromptTemplate,\n",
    "    SystemMessagePromptTemplate,\n",
    ")\n",
    "from langchain_google_genai import GoogleGenerativeAI\n",
    "from pydantic import SecretStr\n",
    "\n",
    "GEMINI_API_KEY= os.getenv(\"GEMINI_API_KEY\")\n",
    "\n",
    "sysPrompt = SystemMessagePromptTemplate.from_template(\"\"\"\n",
    "\tRole: Tourism guidance assistant\n",
    "\tJob: Give general information about mentioned place include geography, history, culture and special cuisines.\n",
    "\tFail safe: Formally sorry if the question is not related.\n",
    "\n",
    "\tUser question: {question}\n",
    "\"\"\")\n",
    "\n",
    "prompt = ChatPromptTemplate.from_messages(messages=[\n",
    "    sysPrompt\n",
    "])\n",
    "\n",
    "llm = GoogleGenerativeAI(model=\"gemini-1.5-pro\", api_key=SecretStr(GEMINI_API_KEY), temperature=0, max_tokens=2000)\n",
    "\n",
    "chain = prompt | llm | StrOutputParser()\n",
    "\n",
    "chain.invoke({\"question\":\"should I go to Korea\"})"
   ]
  }
 ],
 "metadata": {
  "kernelspec": {
   "display_name": "Python 3 (ipykernel)",
   "language": "python",
   "name": "python3"
  },
  "language_info": {
   "codemirror_mode": {
    "name": "ipython",
    "version": 3
   },
   "file_extension": ".py",
   "mimetype": "text/x-python",
   "name": "python",
   "nbconvert_exporter": "python",
   "pygments_lexer": "ipython3",
   "version": "3.13.2"
  }
 },
 "nbformat": 4,
 "nbformat_minor": 5
}
