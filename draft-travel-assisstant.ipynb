{
 "cells": [
  {
   "cell_type": "code",
   "execution_count": 3,
   "id": "a85411ef-a771-4b34-8c9f-d2a0f690cc3e",
   "metadata": {},
   "outputs": [
    {
     "data": {
      "text/plain": [
       "AIMessage(content=\"The image shows a snow-covered mountain peak against a sunset sky.  The foreground is a smooth expanse of snow, possibly a slope or ridge. The peak is partially shrouded in what appears to be blowing snow or clouds near the summit. The sky has pastel shades of pink, purple, and blue, indicating it's either sunrise or sunset.  The overall impression is one of a cold, remote, and beautiful mountain landscape.\", additional_kwargs={}, response_metadata={'prompt_feedback': {'block_reason': 0, 'safety_ratings': []}, 'finish_reason': 'STOP', 'safety_ratings': []}, id='run-d6fd4ce2-a2bb-46f8-809e-1bd6b9e5e96c-0', usage_metadata={'input_tokens': 265, 'output_tokens': 88, 'total_tokens': 353, 'input_token_details': {'cache_read': 0}})"
      ]
     },
     "execution_count": 3,
     "metadata": {},
     "output_type": "execute_result"
    }
   ],
   "source": [
    "import os\n",
    "\n",
    "from langchain_core.messages import HumanMessage\n",
    "from langchain_core.prompts import (\n",
    "    ChatPromptTemplate,\n",
    "    SystemMessagePromptTemplate,\n",
    ")\n",
    "from langchain_google_genai import ChatGoogleGenerativeAI, GoogleGenerativeAI\n",
    "from pydantic import SecretStr\n",
    "\n",
    "GEMINI_API_KEY= os.getenv(\"GEMINI_API_KEY\")\n",
    "\n",
    "sysPrompt = SystemMessagePromptTemplate.from_template(\"\"\"\n",
    "\tRole: Tourism guidance assistant\n",
    "\tJob: Give general information about mentioned place include geography, history, culture and special cuisines.\n",
    "\tFail safe: Formally sorry if the question is not related.\n",
    "\n",
    "\tUser question: {question}\n",
    "\"\"\")\n",
    "\n",
    "prompt = ChatPromptTemplate.from_messages(messages=[\n",
    "    sysPrompt\n",
    "])\n",
    "\n",
    "llm = GoogleGenerativeAI(model=\"gemini-1.5-pro\", api_key=SecretStr(GEMINI_API_KEY), temperature=0, max_tokens=2000)\n",
    "\n",
    "# chain = prompt | llm | StrOutputParser()\n",
    "\n",
    "# chain.invoke({\"question\":\"should I go to Korea\"})\n",
    "\n",
    "chatModel = ChatGoogleGenerativeAI(model=\"gemini-1.5-pro\", api_key=SecretStr(GEMINI_API_KEY), temperature=0, max_tokens=2000)\n",
    "message = HumanMessage(\n",
    "    content=[\n",
    "        {\n",
    "            \"type\": \"text\",\n",
    "            \"text\": \"What's in this image?\",\n",
    "        },  # You can optionally provide text parts\n",
    "        {\"type\": \"image_url\", \"image_url\": \"https://picsum.photos/seed/picsum/200/300\"},\n",
    "    ]\n",
    ")\n",
    "\n",
    "chatModel.invoke([message])\n",
    "\n"
   ]
  }
 ],
 "metadata": {
  "kernelspec": {
   "display_name": "Python 3 (ipykernel)",
   "language": "python",
   "name": "python3"
  },
  "language_info": {
   "codemirror_mode": {
    "name": "ipython",
    "version": 3
   },
   "file_extension": ".py",
   "mimetype": "text/x-python",
   "name": "python",
   "nbconvert_exporter": "python",
   "pygments_lexer": "ipython3",
   "version": "3.13.2"
  }
 },
 "nbformat": 4,
 "nbformat_minor": 5
}
