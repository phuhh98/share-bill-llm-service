from datetime import datetime
from pydantic import BaseModel, PositiveInt, ValidationError
from typing import Annotated


class User(BaseModel):
    id: int
    name: str = 'John Doe'
    signup_ts: datetime | None
    tastes: dict[str, PositiveInt]

class Custom(BaseModel):
    pass

external_data = {'id': 'not an int', 'tastes': {}}

try:
    User(**external_data)
except ValidationError as e:
    print(e.errors())
    """
    [
        {
            'type': 'int_parsing',
            'loc': ('id',),
            'msg': 'Input should be a valid integer, unable to parse string as an integer',
            'input': 'not an int',
            'url': 'https://errors.pydantic.dev/2/v/int_parsing',
        },
        {
            'type': 'missing',
            'loc': ('signup_ts',),
            'msg': 'Field required',
            'input': {'id': 'not an int', 'tastes': {}},
            'url': 'https://errors.pydantic.dev/2/v/missing',
        },
    ]
    """


import requests
from pydantic import BaseModel

url = "https://dummyjson.com/products/1"
response = requests.get(url)

class Product(BaseModel):
    id: Annotated[int, "unique id"]
    title: Annotated[str, "name of product"]
    nonsensProp: Annotated[str, "nonsensse"]

print(f"stattus: {response.status_code},")
# print(f"repsonse data: {response.text}")

try:
    validated = Product(**response.json())
    print("Validated", validated)
except Exception as e:
    print("Validation error", e)
