{
 "cells": [
  {
   "cell_type": "code",
   "execution_count": 5,
   "id": "932e0b44-1f72-49aa-8787-d596725440eb",
   "metadata": {},
   "outputs": [
    {
     "name": "stdout",
     "output_type": "stream",
     "text": [
      "[{'type': 'int_parsing', 'loc': ('id',), 'msg': 'Input should be a valid integer, unable to parse string as an integer', 'input': 'not an int', 'url': 'https://errors.pydantic.dev/2.11/v/int_parsing'}, {'type': 'missing', 'loc': ('signup_ts',), 'msg': 'Field required', 'input': {'id': 'not an int', 'tastes': {}}, 'url': 'https://errors.pydantic.dev/2.11/v/missing'}]\n"
     ]
    }
   ],
   "source": [
    "from datetime import datetime\n",
    "from pydantic import BaseModel, PositiveInt, ValidationError\n",
    "from typing import Annotated\n",
    "\n",
    "\n",
    "class User(BaseModel):\n",
    "    id: int\n",
    "    name: str = 'John Doe'\n",
    "    signup_ts: datetime | None\n",
    "    tastes: dict[str, PositiveInt]\n",
    "\n",
    "class Custom(BaseModel):\n",
    "    pass\n",
    "\n",
    "external_data = {'id': 'not an int', 'tastes': {}}  \n",
    "\n",
    "try:\n",
    "    User(**external_data)  \n",
    "except ValidationError as e:\n",
    "    print(e.errors())\n",
    "    \"\"\"\n",
    "    [\n",
    "        {\n",
    "            'type': 'int_parsing',\n",
    "            'loc': ('id',),\n",
    "            'msg': 'Input should be a valid integer, unable to parse string as an integer',\n",
    "            'input': 'not an int',\n",
    "            'url': 'https://errors.pydantic.dev/2/v/int_parsing',\n",
    "        },\n",
    "        {\n",
    "            'type': 'missing',\n",
    "            'loc': ('signup_ts',),\n",
    "            'msg': 'Field required',\n",
    "            'input': {'id': 'not an int', 'tastes': {}},\n",
    "            'url': 'https://errors.pydantic.dev/2/v/missing',\n",
    "        },\n",
    "    ]\n",
    "    \"\"\""
   ]
  },
  {
   "cell_type": "code",
   "execution_count": 13,
   "id": "d0487ea8-6aff-4e27-8aa2-d0cdf3ba9e7e",
   "metadata": {},
   "outputs": [
    {
     "name": "stdout",
     "output_type": "stream",
     "text": [
      "stattus: 200,\n",
      "Validation error 1 validation error for Product\n",
      "nonsensProp\n",
      "  Field required [type=missing, input_value={'id': 1, 'title': 'Essen...rincess/thumbnail.webp'}, input_type=dict]\n",
      "    For further information visit https://errors.pydantic.dev/2.11/v/missing\n"
     ]
    }
   ],
   "source": [
    "import requests\n",
    "from pydantic import BaseModel\n",
    "\n",
    "url = \"https://dummyjson.com/products/1\"\n",
    "response = requests.get(url)\n",
    "\n",
    "class Product(BaseModel):\n",
    "    id: Annotated[int, \"unique id\"]\n",
    "    title: Annotated[str, \"name of product\"]\n",
    "    nonsensProp: Annotated[str, \"nonsensse\"]\n",
    "\n",
    "print(f\"stattus: {response.status_code},\")\n",
    "# print(f\"repsonse data: {response.text}\")\n",
    "\n",
    "try:\n",
    "    validated = Product(**response.json())\n",
    "    print(\"Validated\", validated)\n",
    "except Exception as e:\n",
    "    print(\"Validation error\", e)"
   ]
  }
 ],
 "metadata": {
  "kernelspec": {
   "display_name": "Python 3 (ipykernel)",
   "language": "python",
   "name": "python3"
  },
  "language_info": {
   "codemirror_mode": {
    "name": "ipython",
    "version": 3
   },
   "file_extension": ".py",
   "mimetype": "text/x-python",
   "name": "python",
   "nbconvert_exporter": "python",
   "pygments_lexer": "ipython3",
   "version": "3.13.3"
  }
 },
 "nbformat": 4,
 "nbformat_minor": 5
}
